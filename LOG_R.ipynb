{
  "cells": [
    {
      "cell_type": "code",
      "execution_count": null,
      "metadata": {
        "colab": {
          "base_uri": "https://localhost:8080/"
        },
        "id": "12NWW2nh-Zyi",
        "outputId": "9538e46b-c54f-4e98-be3e-939ea9dbfe7e"
      },
      "outputs": [],
      "source": [
        "from sklearn.datasets import fetch_openml\n",
        "mnist=fetch_openml('mnist_784', version=1)\n",
        "mnist.keys()\n"
      ]
    },
    {
      "cell_type": "code",
      "execution_count": null,
      "metadata": {
        "colab": {
          "base_uri": "https://localhost:8080/"
        },
        "id": "v0lx1sEt0orL",
        "outputId": "09d7bfb7-d031-44b8-b0f7-f3b5f13f3530"
      },
      "outputs": [],
      "source": [
        "mnist.data.shape"
      ]
    },
    {
      "cell_type": "code",
      "execution_count": null,
      "metadata": {
        "id": "4kn2GSbd0oma"
      },
      "outputs": [],
      "source": [
        "mnist.data"
      ]
    },
    {
      "cell_type": "code",
      "execution_count": null,
      "metadata": {
        "colab": {
          "base_uri": "https://localhost:8080/"
        },
        "id": "zFzP1zo80odq",
        "outputId": "a1330b61-1ec9-4f89-913d-2ee945cf80ab"
      },
      "outputs": [],
      "source": [
        "mnist['target']"
      ]
    },
    {
      "cell_type": "code",
      "execution_count": null,
      "metadata": {
        "id": "aAfMX__oLxdA"
      },
      "outputs": [],
      "source": [
        "import numpy as np\n",
        "podaci=np.array(mnist.data)"
      ]
    },
    {
      "cell_type": "code",
      "execution_count": null,
      "metadata": {
        "id": "wjnDG86mLxYA"
      },
      "outputs": [],
      "source": [
        "prvi_broj=podaci[0]\n",
        "prvi_broj_slika=prvi_broj.reshape(28,28)\n",
        "prvi_broj_slika"
      ]
    },
    {
      "cell_type": "code",
      "execution_count": null,
      "metadata": {
        "colab": {
          "base_uri": "https://localhost:8080/",
          "height": 430
        },
        "id": "Rqo0SmBUMh-u",
        "outputId": "cfec5835-75d7-49b4-91d9-0f63f807381b"
      },
      "outputs": [],
      "source": [
        "import matplotlib.pyplot as plt\n",
        "plt.imshow(prvi_broj_slika,cmap=\"gray\")\n",
        "plt.show()"
      ]
    },
    {
      "cell_type": "code",
      "execution_count": null,
      "metadata": {
        "colab": {
          "base_uri": "https://localhost:8080/",
          "height": 35
        },
        "id": "2n1okvOBMh3e",
        "outputId": "ffe35757-1fdc-407b-b8e8-87707c09109e"
      },
      "outputs": [],
      "source": [
        "mnist.target[0]"
      ]
    },
    {
      "cell_type": "markdown",
      "metadata": {
        "id": "AcZjMWa8x_Zk"
      },
      "source": [
        "The main objective of database normalization is to eliminate redundant data, minimize data modification errors, and simplify the query process. Ultimately, normalization goes beyond simply standardizing data, and can even improve workflow, increase security, and lessen costs."
      ]
    },
    {
      "cell_type": "code",
      "execution_count": null,
      "metadata": {
        "id": "DT7eA_D5ifkq"
      },
      "outputs": [],
      "source": [
        "X=podaci[0:1000,:]/255   #na prvih 1000 usput i normalizirati podatke \n",
        "y=np.array(mnist.target[0:1000])"
      ]
    },
    {
      "cell_type": "code",
      "execution_count": null,
      "metadata": {
        "id": "rAOKJwTVOU70"
      },
      "outputs": [],
      "source": [
        "y[np.where(y!='5')]=0\n",
        "y"
      ]
    },
    {
      "cell_type": "code",
      "execution_count": null,
      "metadata": {
        "id": "B12swTTsOj-L"
      },
      "outputs": [],
      "source": [
        "y[np.where(y=='5')]=1\n",
        "y"
      ]
    },
    {
      "cell_type": "code",
      "execution_count": null,
      "metadata": {
        "id": "3inXHFjNOybs"
      },
      "outputs": [],
      "source": [
        "y=y.astype(int)\n",
        "y"
      ]
    },
    {
      "cell_type": "code",
      "execution_count": null,
      "metadata": {
        "id": "9b47BJidPNeD"
      },
      "outputs": [],
      "source": [
        "from sklearn.model_selection import train_test_split\n",
        "X_train,X_test,y_trian,y_test=train_test_split(X,y,test_size=0.30, random_state=42)"
      ]
    },
    {
      "cell_type": "code",
      "execution_count": null,
      "metadata": {
        "colab": {
          "base_uri": "https://localhost:8080/"
        },
        "id": "QDNg86oHPixq",
        "outputId": "8cc7d643-41d3-42c6-b87b-25a5053a6327"
      },
      "outputs": [],
      "source": [
        "X_train.shape"
      ]
    },
    {
      "attachments": {},
      "cell_type": "markdown",
      "metadata": {
        "id": "VvGfZU-f-9SH"
      },
      "source": [
        "Logistička regresija"
      ]
    },
    {
      "cell_type": "code",
      "execution_count": null,
      "metadata": {
        "id": "4HvS9qy4DjDu"
      },
      "outputs": [],
      "source": [
        "from sklearn.linear_model import LogisticRegression\n",
        "model_LogR=LogisticRegression()   "
      ]
    },
    {
      "cell_type": "code",
      "execution_count": null,
      "metadata": {
        "colab": {
          "base_uri": "https://localhost:8080/",
          "height": 75
        },
        "id": "LGscXznE09HP",
        "outputId": "7fce0a18-2439-4a26-8dab-1bbd927f66bb"
      },
      "outputs": [],
      "source": [
        "model_LogR.fit(X_train,y_trian)"
      ]
    },
    {
      "cell_type": "code",
      "execution_count": null,
      "metadata": {
        "colab": {
          "base_uri": "https://localhost:8080/"
        },
        "id": "4pGarrcv09EK",
        "outputId": "260a899b-fbcd-4843-92ec-f7ae8c627781"
      },
      "outputs": [],
      "source": [
        "model_LogR.score(X_test,y_test)"
      ]
    },
    {
      "cell_type": "code",
      "execution_count": null,
      "metadata": {
        "colab": {
          "base_uri": "https://localhost:8080/"
        },
        "id": "Sc1h-dCPTz0W",
        "outputId": "9ba4cac1-16f2-462f-fb8e-1dc60c20f091"
      },
      "outputs": [],
      "source": [
        "from sklearn.metrics import classification_report\n",
        "print(classification_report(y_test,model_LogR.predict(X_test)))"
      ]
    },
    {
      "cell_type": "code",
      "execution_count": null,
      "metadata": {
        "colab": {
          "base_uri": "https://localhost:8080/"
        },
        "id": "NwSArDbyUVRE",
        "outputId": "c9930219-7058-4a1f-b1ef-a3dbdd79d5aa"
      },
      "outputs": [],
      "source": [
        "from sklearn.metrics import confusion_matrix\n",
        "confusion_matrix(y_test,model_LogR.predict(X_test))"
      ]
    },
    {
      "cell_type": "code",
      "execution_count": null,
      "metadata": {
        "id": "GWTfKufuUm1d"
      },
      "outputs": [],
      "source": [
        "y_pred_LogR=model_LogR.predict(X_test)"
      ]
    },
    {
      "cell_type": "code",
      "execution_count": null,
      "metadata": {
        "colab": {
          "base_uri": "https://localhost:8080/"
        },
        "id": "YbbYD2NbU-zm",
        "outputId": "520b1f52-5f03-42a6-caf5-589fc44db4b3"
      },
      "outputs": [],
      "source": [
        "y_test.shape"
      ]
    },
    {
      "cell_type": "code",
      "execution_count": null,
      "metadata": {
        "id": "SyQrEB8QUvz8"
      },
      "outputs": [],
      "source": [
        "misclassified_index=[]\n",
        "for i in range (y_test.shape[0]):\n",
        "  if y_test[i]!=y_pred_LogR[i]:\n",
        "    misclassified_index.append(i)\n"
      ]
    },
    {
      "cell_type": "code",
      "execution_count": null,
      "metadata": {
        "colab": {
          "base_uri": "https://localhost:8080/"
        },
        "id": "cHbdk2rDVZcf",
        "outputId": "3c7909aa-060c-44ae-a41d-c41725abc6b5"
      },
      "outputs": [],
      "source": [
        "misclassified_index"
      ]
    },
    {
      "cell_type": "code",
      "execution_count": null,
      "metadata": {
        "colab": {
          "base_uri": "https://localhost:8080/"
        },
        "id": "L5rKD7I3VfKl",
        "outputId": "e262a074-1288-45c6-bf82-3491b1735874"
      },
      "outputs": [],
      "source": [
        "X_test.shape"
      ]
    },
    {
      "cell_type": "code",
      "execution_count": null,
      "metadata": {
        "colab": {
          "base_uri": "https://localhost:8080/",
          "height": 150
        },
        "id": "3E7iBfWPVl0u",
        "outputId": "2d5f1e05-4258-4611-da7a-a64969112216"
      },
      "outputs": [],
      "source": [
        "for i,index in enumerate(misclassified_index[0:5]):\n",
        "  plt.subplot(1,5,i+1)\n",
        "  plt.imshow(X_test[misclassified_index[i]].reshape(28,28))\n",
        "plt.show()"
      ]
    },
    {
      "cell_type": "code",
      "execution_count": null,
      "metadata": {
        "colab": {
          "base_uri": "https://localhost:8080/",
          "height": 327
        },
        "id": "CK95hJ-aWOJG",
        "outputId": "201733b1-3853-421f-cdc1-d4f6b0a08e6c"
      },
      "outputs": [],
      "source": [
        "for i,index in enumerate(misclassified_index[0:14]):\n",
        "  plt.subplot(2,7,i+1)\n",
        "  plt.imshow(X_test[misclassified_index[i]].reshape(28,28))\n",
        "plt.show()"
      ]
    },
    {
      "cell_type": "markdown",
      "metadata": {
        "id": "NhlGA58Qxzo4"
      },
      "source": [
        "###ROC analiza"
      ]
    },
    {
      "cell_type": "code",
      "execution_count": null,
      "metadata": {
        "colab": {
          "base_uri": "https://localhost:8080/",
          "height": 489
        },
        "id": "zS_1fmkB7spP",
        "outputId": "bbfd1d4c-5f91-4e9a-84a6-828f8759e585"
      },
      "outputs": [],
      "source": [
        "from sklearn.metrics import roc_auc_score\n",
        "from sklearn.metrics import roc_curve\n",
        "logit_roc_auc = roc_auc_score(y_test, y_pred_LogR) #površina ispd krivulje\n",
        "fpr, tpr, thresholds = roc_curve(y_test, y_pred_LogR)  #crtanje krivulje\n",
        "plt.figure()\n",
        "plt.plot(fpr, tpr, label='Logistic Regression (area = %0.2f)' % logit_roc_auc)\n",
        "plt.plot([0, 1], [0, 1], 'k--') #dijagonala\n",
        "plt.axis([0, 1, 0, 1]) #\n",
        "plt.xlabel('False Positive Rate = 1- Specificity')\n",
        "plt.ylabel('True Positive Rate = Sensitivity')\n",
        "plt.title('Receiver operating characteristic')\n",
        "plt.legend(loc=\"lower right\")\n",
        "plt.show()\n"
      ]
    },
    {
      "cell_type": "markdown",
      "metadata": {
        "id": "05mCPM5fwyjn"
      },
      "source": [
        "###Primjena na više klasa"
      ]
    },
    {
      "cell_type": "code",
      "execution_count": null,
      "metadata": {
        "id": "u58EVqXZocwh"
      },
      "outputs": [],
      "source": [
        "from sklearn.datasets import fetch_openml\n",
        "mnist=fetch_openml('mnist_784', version=1)\n",
        "mnist.keys()"
      ]
    },
    {
      "cell_type": "code",
      "execution_count": null,
      "metadata": {
        "id": "ZSxhxPVNnksl"
      },
      "outputs": [],
      "source": [
        "X=np.array(mnist.data)\n",
        "y=np.array(mnist.target).astype(int)"
      ]
    },
    {
      "cell_type": "code",
      "execution_count": null,
      "metadata": {
        "id": "phXJ36Vh9ewD"
      },
      "outputs": [],
      "source": [
        "X=X[0:1000,:]/255\n",
        "y=y[0:1000]"
      ]
    },
    {
      "cell_type": "code",
      "execution_count": null,
      "metadata": {
        "id": "yki80sjEoMfR"
      },
      "outputs": [],
      "source": [
        "#podjela na skupove\n",
        "from sklearn.model_selection import train_test_split\n",
        "X_train, X_test, y_train, y_test = train_test_split(X, y, test_size=0.30, \\\n",
        "                                                    random_state=42)"
      ]
    },
    {
      "cell_type": "markdown",
      "metadata": {
        "id": "JBCU_JydegzP"
      },
      "source": [
        "####Logistic regression"
      ]
    },
    {
      "cell_type": "code",
      "execution_count": null,
      "metadata": {
        "id": "LVar-znxoMfT"
      },
      "outputs": [],
      "source": [
        "from sklearn.linear_model import LogisticRegression\n",
        "model_LogR=LogisticRegression(max_iter=1000)  #"
      ]
    },
    {
      "cell_type": "code",
      "execution_count": null,
      "metadata": {
        "colab": {
          "base_uri": "https://localhost:8080/",
          "height": 74
        },
        "id": "K3rjJBE_oMfU",
        "outputId": "7fa3623c-0eed-4d9c-80e5-ffaa6a1f2ef8"
      },
      "outputs": [],
      "source": [
        "model_LogR.fit(X_train,y_train)"
      ]
    },
    {
      "cell_type": "code",
      "execution_count": null,
      "metadata": {
        "colab": {
          "base_uri": "https://localhost:8080/"
        },
        "id": "97AatcOFoMfV",
        "outputId": "0d3ac5ae-1e08-4756-8914-3e6bb31c6e2d"
      },
      "outputs": [
        {
          "data": {
            "text/plain": [
              "0.8766666666666667"
            ]
          },
          "execution_count": 166,
          "metadata": {},
          "output_type": "execute_result"
        }
      ],
      "source": [
        "model_LogR.score(X_test,y_test)"
      ]
    },
    {
      "cell_type": "code",
      "execution_count": null,
      "metadata": {
        "id": "Lu4b7PqxoMfV"
      },
      "outputs": [],
      "source": [
        "y_pred_LogR=model_LogR.predict(X_test)"
      ]
    },
    {
      "cell_type": "code",
      "execution_count": null,
      "metadata": {
        "colab": {
          "base_uri": "https://localhost:8080/"
        },
        "id": "l7Cmnp5CoMfV",
        "outputId": "254f0f79-773e-4ffc-936f-5db7a56624fe"
      },
      "outputs": [],
      "source": [
        "from sklearn.metrics import classification_report\n",
        "print(classification_report(y_test,y_pred_LogR))"
      ]
    },
    {
      "cell_type": "code",
      "execution_count": null,
      "metadata": {
        "colab": {
          "base_uri": "https://localhost:8080/"
        },
        "id": "uFsi9kfnoMfW",
        "outputId": "c97d5b32-0ac5-478b-b76c-92f8b05d446f"
      },
      "outputs": [],
      "source": [
        "from sklearn.metrics import confusion_matrix\n",
        "confusion_matrix(y_test, y_pred_LogR)"
      ]
    },
    {
      "cell_type": "code",
      "execution_count": null,
      "metadata": {
        "id": "hyl-VQd-xFIm"
      },
      "outputs": [],
      "source": [
        "misclassified_index=[]\n",
        "for i in range(y_test.shape[0]):\n",
        "  if y_test[i] != y_pred_LogR[i]:\n",
        "    misclassified_index.append(i)"
      ]
    },
    {
      "cell_type": "code",
      "execution_count": null,
      "metadata": {
        "colab": {
          "base_uri": "https://localhost:8080/",
          "height": 263
        },
        "id": "nJR0R0nCxRuc",
        "outputId": "e1b7da3b-045d-4c5f-dacb-3e379f63b5e3"
      },
      "outputs": [],
      "source": [
        "plt.figure(figsize=(20,20))\n",
        "for i,index in enumerate(misclassified_index[0:5]):\n",
        "  plt.subplot(151+i)\n",
        "  plt.imshow(X_test[misclassified_index[i]].reshape(28,28))\n",
        "  plt.title('Predvidio {}, stvarna {}'.format(y_pred_LogR[misclassified_index[i]],y_test[misclassified_index[i]]))\n",
        "  #format(y_pred_LogR[misclassified_index[i]],y_test[misclassified_index[i]]))\n",
        "plt.show()"
      ]
    },
    {
      "cell_type": "markdown",
      "metadata": {
        "id": "nX11shVHSJx6"
      },
      "source": [
        "####Support Vector Machine"
      ]
    },
    {
      "cell_type": "code",
      "execution_count": null,
      "metadata": {
        "colab": {
          "base_uri": "https://localhost:8080/",
          "height": 74
        },
        "id": "6xlBUjusoo15",
        "outputId": "61b13b00-8c6e-4856-d929-6ebb32d14080"
      },
      "outputs": [],
      "source": [
        "from sklearn import svm\n",
        "model_svm=svm.SVC()\n",
        "model_svm.fit(X_train,y_train)"
      ]
    },
    {
      "cell_type": "code",
      "execution_count": null,
      "metadata": {
        "colab": {
          "base_uri": "https://localhost:8080/"
        },
        "id": "UXI1XseAqaol",
        "outputId": "7ac0d5f3-8740-4e34-ec19-e5282b19f4f7"
      },
      "outputs": [],
      "source": [
        "model_svm.score(X_test,y_test)"
      ]
    },
    {
      "cell_type": "code",
      "execution_count": null,
      "metadata": {
        "id": "Jwzd-NZ70WeC"
      },
      "outputs": [],
      "source": [
        "y_pred_svm=model_svm.predict(X_test)"
      ]
    },
    {
      "cell_type": "code",
      "execution_count": null,
      "metadata": {
        "colab": {
          "base_uri": "https://localhost:8080/"
        },
        "id": "SlIXwPJR0dbJ",
        "outputId": "a5d51cca-8d72-4610-dd0a-9b7ada7f803d"
      },
      "outputs": [],
      "source": [
        "print(classification_report(y_test,y_pred_svm))"
      ]
    },
    {
      "cell_type": "code",
      "execution_count": null,
      "metadata": {
        "colab": {
          "base_uri": "https://localhost:8080/"
        },
        "id": "IfQ8mpf_0Ri6",
        "outputId": "cd4d7a37-d26b-4de5-d052-1e1f95333264"
      },
      "outputs": [],
      "source": [
        "confusion_matrix(y_test, y_pred_svm)"
      ]
    }
  ],
  "metadata": {
    "colab": {
      "provenance": [],
      "toc_visible": true
    },
    "kernelspec": {
      "display_name": "Python 3",
      "name": "python3"
    }
  },
  "nbformat": 4,
  "nbformat_minor": 0
}
