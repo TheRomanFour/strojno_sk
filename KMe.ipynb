{
  "cells": [
    {
      "attachments": {},
      "cell_type": "markdown",
      "metadata": {
        "id": "ZD_QeKMZ4TD0"
      },
      "source": [
        "### Grupiranje - segmentacija"
      ]
    },
    {
      "cell_type": "code",
      "execution_count": null,
      "metadata": {
        "colab": {
          "base_uri": "https://localhost:8080/"
        },
        "id": "hehikiRaOhCF",
        "outputId": "9c8e0fd7-f30e-4cd9-d7ae-6d5000f00cad"
      },
      "outputs": [
        {
          "data": {
            "text/plain": [
              "(334, 500, 3)"
            ]
          },
          "execution_count": 1,
          "metadata": {},
          "output_type": "execute_result"
        }
      ],
      "source": [
        "from matplotlib.image import imread\n",
        "image=imread('/content/konj1.jpg')\n",
        "image.shape"
      ]
    },
    {
      "cell_type": "markdown",
      "metadata": {
        "id": "0s8uGLtpA5m1"
      },
      "source": [
        "Mijenjamo oblik slike: visina,sirina, dubina u  visina x sirina,dubina , kako bi dobili 3D vektor za RGB  (prije smo radili sa sivim slikama)"
      ]
    },
    {
      "cell_type": "code",
      "execution_count": null,
      "metadata": {
        "colab": {
          "base_uri": "https://localhost:8080/"
        },
        "id": "TQlzc1RiRW5U",
        "outputId": "63e37fbd-830d-4c42-a138-6aaebbbf93d8"
      },
      "outputs": [
        {
          "data": {
            "text/plain": [
              "(167000, 3)"
            ]
          },
          "execution_count": 2,
          "metadata": {},
          "output_type": "execute_result"
        }
      ],
      "source": [
        "#X=image.reshape(image.shape[0]*image.shape[1],image.shape[2])\n",
        "X=image.reshape(-1,3)\n",
        "X.shape"
      ]
    },
    {
      "cell_type": "code",
      "execution_count": null,
      "metadata": {
        "id": "Kzvp2NvScze8"
      },
      "outputs": [],
      "source": [
        "from sklearn.cluster import KMeans\n",
        "import matplotlib.pyplot as plt\n",
        "\n",
        "kmeans=KMeans(n_clusters=3,n_init=1,random_state=42).fit(X)"
      ]
    },
    {
      "cell_type": "code",
      "execution_count": null,
      "metadata": {
        "colab": {
          "base_uri": "https://localhost:8080/"
        },
        "id": "g_1C2gKqczaG",
        "outputId": "49e24546-d4e5-49c6-bb3b-bb9f01ea03d5"
      },
      "outputs": [
        {
          "data": {
            "text/plain": [
              "array([1, 1, 1, ..., 0, 0, 2], dtype=int32)"
            ]
          },
          "execution_count": 4,
          "metadata": {},
          "output_type": "execute_result"
        }
      ],
      "source": [
        "#kmeans.predict(X)"
      ]
    },
    {
      "cell_type": "code",
      "execution_count": null,
      "metadata": {
        "colab": {
          "base_uri": "https://localhost:8080/"
        },
        "id": "dzW8atfmczVq",
        "outputId": "f885e970-794e-42d5-b0a2-9b3591ac355a"
      },
      "outputs": [
        {
          "data": {
            "text/plain": [
              "array([1, 1, 1, ..., 0, 0, 2], dtype=int32)"
            ]
          },
          "execution_count": 5,
          "metadata": {},
          "output_type": "execute_result"
        }
      ],
      "source": [
        "kmeans.labels_"
      ]
    },
    {
      "cell_type": "code",
      "execution_count": null,
      "metadata": {
        "colab": {
          "base_uri": "https://localhost:8080/"
        },
        "id": "K6nAEqV8czRr",
        "outputId": "a34155b8-d9e1-4c4f-e999-7b448c27daf8"
      },
      "outputs": [
        {
          "data": {
            "text/plain": [
              "array([[172.52931175, 134.23190895,  78.58927115],\n",
              "       [ 59.32557199, 158.23224809, 249.59549052],\n",
              "       [ 77.79162202,  52.81502156,  25.35216427]])"
            ]
          },
          "execution_count": 6,
          "metadata": {},
          "output_type": "execute_result"
        }
      ],
      "source": [
        "kmeans.cluster_centers_"
      ]
    },
    {
      "cell_type": "code",
      "execution_count": null,
      "metadata": {
        "id": "PhUbHAWxczMv"
      },
      "outputs": [],
      "source": [
        "segmented_img=kmeans.cluster_centers_[kmeans.labels_]"
      ]
    },
    {
      "cell_type": "code",
      "execution_count": null,
      "metadata": {
        "id": "kHUhw7QcczGa"
      },
      "outputs": [],
      "source": [
        "#segmented_img=segmented_img/255\n",
        "segmented_img=segmented_img.astype(int)"
      ]
    },
    {
      "cell_type": "code",
      "execution_count": null,
      "metadata": {
        "id": "xRiIDGnBRVYb"
      },
      "outputs": [],
      "source": [
        "slika_boje=segmented_img.reshape(image.shape)"
      ]
    },
    {
      "cell_type": "code",
      "execution_count": null,
      "metadata": {
        "colab": {
          "base_uri": "https://localhost:8080/",
          "height": 415
        },
        "id": "nL9jq6Z4FPVj",
        "outputId": "f5b2255d-aed5-4cee-939a-de6f416b4dae"
      },
      "outputs": [],
      "source": [
        "plt.imshow(slika_boje)"
      ]
    },
    {
      "cell_type": "markdown",
      "metadata": {
        "id": "as3GoHwBFXub"
      },
      "source": [
        "10,8,6,4,2 boje"
      ]
    },
    {
      "cell_type": "code",
      "execution_count": null,
      "metadata": {
        "id": "EJAguZZ_Fbia"
      },
      "outputs": [],
      "source": [
        "segmented_imgs=[]\n",
        "n_colors=(10,8,6,4,2)\n",
        "for n_clusters in n_colors:\n",
        "  kmeans=KMeans(n_clusters=n_clusters,n_init=1,random_state=42).fit(X)\n",
        "  segmented_img=kmeans.cluster_centers_[kmeans.labels_]\n",
        "  segmented_img=segmented_img.astype(int)\n",
        "\n",
        "  segmented_imgs.append(segmented_img.reshape(image.shape))"
      ]
    },
    {
      "cell_type": "code",
      "execution_count": null,
      "metadata": {
        "colab": {
          "base_uri": "https://localhost:8080/",
          "height": 432
        },
        "id": "xY-UVNpDGy3y",
        "outputId": "acbb7965-6899-49cd-fa17-3a8d8c53b155"
      },
      "outputs": [],
      "source": [
        "plt.figure(figsize=(10,5))\n",
        "plt.subplots_adjust(wspace=0.05, hspace=0.15)\n",
        "plt.subplot(2,3,1)\n",
        "plt.imshow(image)\n",
        "plt.title(\"Original\")\n",
        "plt.axis('off')\n",
        "\n",
        "for i,n_clusters in enumerate(n_colors):\n",
        "  plt.subplot(2,3,2+i)\n",
        "  plt.imshow(segmented_imgs[i])\n",
        "  plt.title(\"{} boja/boje \".format(n_clusters))\n",
        "  plt.axis('off')\n",
        "plt.show()"
      ]
    },
    {
      "attachments": {},
      "cell_type": "markdown",
      "metadata": {
        "id": "NG7wFQFXFCUK"
      },
      "source": [
        "## Hijerarhijsko grupiranje"
      ]
    },
    {
      "cell_type": "markdown",
      "metadata": {
        "id": "z9DtVUBpje3N"
      },
      "source": [
        "###Definiranje podataka"
      ]
    },
    {
      "cell_type": "markdown",
      "metadata": {
        "id": "krhV8tCwj4Ky"
      },
      "source": [
        "Definiranje 10 točaka u kordinatnom sustavu\n",
        "\n"
      ]
    },
    {
      "cell_type": "code",
      "execution_count": null,
      "metadata": {
        "colab": {
          "base_uri": "https://localhost:8080/"
        },
        "id": "hyH2V1ZcKyF8",
        "outputId": "d0f0044a-4d5f-4721-ac2a-587235e7c814"
      },
      "outputs": [],
      "source": [
        "import numpy as np\n",
        "\n",
        "podaci=np.array([[2,2],[15,4],[2,3], [4,5],[5,5],[20,4],[22,7],[17,7],[20,10],[3,3]])\n",
        "podaci"
      ]
    },
    {
      "cell_type": "code",
      "execution_count": null,
      "metadata": {
        "colab": {
          "base_uri": "https://localhost:8080/",
          "height": 448
        },
        "id": "qV7QdhsuLUyz",
        "outputId": "a6e6f5d0-a1d7-4f30-cbd3-1547f237bea6"
      },
      "outputs": [],
      "source": [
        "import matplotlib.pyplot as plt\n",
        "plt.scatter(podaci[:,0],podaci[:,1])"
      ]
    },
    {
      "attachments": {},
      "cell_type": "markdown",
      "metadata": {
        "id": "tM7_Hi81jVbz"
      },
      "source": [
        "###Računanje udaljenosti između točaka: "
      ]
    },
    {
      "cell_type": "markdown",
      "metadata": {
        "id": "7Lg0bhgTl0tn"
      },
      "source": [
        "Izračunavamo sve moguće udaljenosti između točaka \n",
        "* za 10 točaka dobiti ćemo 45 udaljenosti, odnosno sve moguće kombinacije"
      ]
    },
    {
      "cell_type": "code",
      "execution_count": null,
      "metadata": {
        "id": "2R83W23DL2by"
      },
      "outputs": [],
      "source": [
        "from scipy.spatial.distance import pdist\n",
        "udaljenosti=pdist(podaci)\n",
        "udaljenosti"
      ]
    },
    {
      "cell_type": "markdown",
      "metadata": {
        "id": "hYm4xNM76K2c"
      },
      "source": [
        "###Primjena hijerarhijskog grupiranja"
      ]
    },
    {
      "cell_type": "code",
      "execution_count": null,
      "metadata": {
        "id": "2s7yEu35MNsC"
      },
      "outputs": [],
      "source": [
        "from scipy.cluster.hierarchy import linkage\n",
        "stablo=linkage(udaljenosti)"
      ]
    },
    {
      "cell_type": "code",
      "execution_count": null,
      "metadata": {
        "colab": {
          "base_uri": "https://localhost:8080/",
          "height": 434
        },
        "id": "N0_KcCUUM0JS",
        "outputId": "45109c37-36f9-43ee-fa0b-bd895514a861"
      },
      "outputs": [],
      "source": [
        "from scipy.cluster.hierarchy import dendrogram\n",
        "dendrogram_crtanje=dendrogram(stablo)"
      ]
    },
    {
      "cell_type": "markdown",
      "metadata": {
        "id": "4jmW2ZRw3gkr"
      },
      "source": [
        "####Određivanje grupa/klastera"
      ]
    },
    {
      "cell_type": "markdown",
      "metadata": {
        "id": "QxCaX2lo3ql4"
      },
      "source": [
        "* po udaljenosti točaka"
      ]
    },
    {
      "cell_type": "code",
      "execution_count": null,
      "metadata": {
        "id": "w6MDiTMvNX2a"
      },
      "outputs": [],
      "source": [
        "from scipy.cluster.hierarchy import fcluster\n",
        "poudaljenosti=fcluster(stablo,6,criterion='distance')"
      ]
    },
    {
      "cell_type": "code",
      "execution_count": null,
      "metadata": {
        "colab": {
          "base_uri": "https://localhost:8080/"
        },
        "id": "MWk9XArPNui5",
        "outputId": "6e6e2a1d-b376-40d9-ef36-0a27542b000d"
      },
      "outputs": [
        {
          "data": {
            "text/plain": [
              "array([1, 2, 1, 1, 1, 2, 2, 2, 2, 1], dtype=int32)"
            ]
          },
          "execution_count": 23,
          "metadata": {},
          "output_type": "execute_result"
        }
      ],
      "source": [
        "poudaljenosti"
      ]
    },
    {
      "cell_type": "code",
      "execution_count": null,
      "metadata": {
        "id": "vwRrCcf6N1iR"
      },
      "outputs": [],
      "source": [
        "poudaljenosti=fcluster(stablo,4,criterion='distance')"
      ]
    },
    {
      "cell_type": "code",
      "execution_count": null,
      "metadata": {
        "colab": {
          "base_uri": "https://localhost:8080/"
        },
        "id": "jF4o57h8N3gR",
        "outputId": "637cf947-6c8a-4457-e332-a730f94f1fb1"
      },
      "outputs": [
        {
          "data": {
            "text/plain": [
              "array([1, 2, 1, 1, 1, 3, 3, 2, 3, 1], dtype=int32)"
            ]
          },
          "execution_count": 25,
          "metadata": {},
          "output_type": "execute_result"
        }
      ],
      "source": [
        "poudaljenosti"
      ]
    },
    {
      "cell_type": "code",
      "execution_count": null,
      "metadata": {
        "id": "GSyPwfNPOA_w"
      },
      "outputs": [],
      "source": [
        "plt.scatter(podaci[:,0], podaci[:,1], c=poudaljenosti, cmap=\"cool\")"
      ]
    },
    {
      "cell_type": "markdown",
      "metadata": {
        "id": "DlXekQ8I3uIw"
      },
      "source": [
        "* po broju klastera"
      ]
    },
    {
      "cell_type": "code",
      "execution_count": null,
      "metadata": {
        "id": "hoVKIVlVN9fr"
      },
      "outputs": [],
      "source": [
        "pobrojuklastera=fcluster(stablo,3,criterion='maxclust')"
      ]
    },
    {
      "cell_type": "code",
      "execution_count": null,
      "metadata": {
        "colab": {
          "base_uri": "https://localhost:8080/",
          "height": 448
        },
        "id": "Ws-AmFC5Ol67",
        "outputId": "589a85d1-49e8-4472-cde6-5de540d44240"
      },
      "outputs": [],
      "source": [
        "plt.scatter(podaci[:,0], podaci[:,1], c=pobrojuklastera, cmap=\"cool\")"
      ]
    }
  ],
  "metadata": {
    "colab": {
      "provenance": [],
      "toc_visible": true
    },
    "kernelspec": {
      "display_name": "Python 3",
      "name": "python3"
    },
    "language_info": {
      "name": "python"
    }
  },
  "nbformat": 4,
  "nbformat_minor": 0
}
