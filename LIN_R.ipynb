{
  "cells": [
    {
      "attachments": {},
      "cell_type": "markdown",
      "metadata": {
        "id": "9bWxVeTbNWg3"
      },
      "source": [
        "Linearna regresija"
      ]
    },
    {
      "cell_type": "markdown",
      "metadata": {
        "id": "yndCba6s1GV2"
      },
      "source": [
        "##Dohvacanje podataka"
      ]
    },
    {
      "cell_type": "code",
      "execution_count": null,
      "metadata": {
        "colab": {
          "base_uri": "https://localhost:8080/"
        },
        "id": "piQR0j9M-M6w",
        "outputId": "892a9550-0bd3-408d-c5b7-9f5ea8a366c2",
        "vscode": {
          "languageId": "python"
        }
      },
      "outputs": [],
      "source": [
        "from sklearn import datasets\n",
        "baza=datasets.fetch_openml('bodyfat')"
      ]
    },
    {
      "cell_type": "code",
      "execution_count": null,
      "metadata": {
        "colab": {
          "base_uri": "https://localhost:8080/"
        },
        "id": "5HoQ5XlQAKTz",
        "outputId": "8050d331-25cb-45f2-ef6a-b4133bef5f91",
        "vscode": {
          "languageId": "python"
        }
      },
      "outputs": [],
      "source": [
        "baza.keys()"
      ]
    },
    {
      "cell_type": "code",
      "execution_count": null,
      "metadata": {
        "colab": {
          "base_uri": "https://localhost:8080/"
        },
        "id": "fWDVFg8mAKQp",
        "outputId": "63b10fea-60f6-408d-87c0-925493cea51e",
        "vscode": {
          "languageId": "python"
        }
      },
      "outputs": [],
      "source": [
        "import numpy as np\n",
        "podaci=np.array(baza.data)\n",
        "podaci"
      ]
    },
    {
      "cell_type": "code",
      "execution_count": null,
      "metadata": {
        "colab": {
          "base_uri": "https://localhost:8080/"
        },
        "id": "0Rcog3KVAKN5",
        "outputId": "1c9f9b94-f85d-4adc-8c97-08f175a6138c",
        "vscode": {
          "languageId": "python"
        }
      },
      "outputs": [],
      "source": [
        "baza.feature_names"
      ]
    },
    {
      "cell_type": "code",
      "execution_count": 59,
      "metadata": {
        "id": "KD3gCe5gFdE3",
        "vscode": {
          "languageId": "python"
        }
      },
      "outputs": [],
      "source": [
        "tezina=podaci[:,2]   #zavisna varijabla\n",
        "tezina=tezina*0.46"
      ]
    },
    {
      "cell_type": "code",
      "execution_count": 60,
      "metadata": {
        "id": "0nwY_Qa4FdDA",
        "vscode": {
          "languageId": "python"
        }
      },
      "outputs": [],
      "source": [
        "visina=podaci[:,3]*2.54  #nezavisna\n"
      ]
    },
    {
      "cell_type": "code",
      "execution_count": 61,
      "metadata": {
        "id": "N5bMRWING4Xh",
        "vscode": {
          "languageId": "python"
        }
      },
      "outputs": [],
      "source": [
        "X=visina\n",
        "y=tezina"
      ]
    },
    {
      "cell_type": "markdown",
      "metadata": {
        "id": "bRREyTxv1OQk"
      },
      "source": [
        "###Grafički prikaz podataka"
      ]
    },
    {
      "cell_type": "code",
      "execution_count": null,
      "metadata": {
        "colab": {
          "base_uri": "https://localhost:8080/",
          "height": 449
        },
        "id": "JGWw44DTHEVp",
        "outputId": "08cd3b80-2e75-4b43-85f9-ba24cf455c3c",
        "vscode": {
          "languageId": "python"
        }
      },
      "outputs": [],
      "source": [
        "import matplotlib.pyplot as plt\n",
        "plt.scatter(X,y)\n",
        "plt.xlabel('Visinu u cm')\n",
        "plt.ylabel('Tezina u kg')\n",
        "plt.show()"
      ]
    },
    {
      "cell_type": "code",
      "execution_count": null,
      "metadata": {
        "colab": {
          "base_uri": "https://localhost:8080/",
          "height": 455
        },
        "id": "Ql3Ana8OHtJK",
        "outputId": "fb70114c-e629-4e8b-b941-d6969644c0bc",
        "vscode": {
          "languageId": "python"
        }
      },
      "outputs": [],
      "source": [
        "import matplotlib.pyplot as plt\n",
        "plt.scatter(X,y)\n",
        "plt.xlabel('Visinu u cm')\n",
        "plt.ylabel('Tezina u kg')\n",
        "plt.xlim(150,205)\n",
        "plt.ylim(40,130)\n",
        "plt.show()"
      ]
    },
    {
      "cell_type": "markdown",
      "metadata": {
        "id": "qxdICT6etQN0"
      },
      "source": [
        "##Model linearne regresije"
      ]
    },
    {
      "cell_type": "code",
      "execution_count": 64,
      "metadata": {
        "colab": {
          "base_uri": "https://localhost:8080/"
        },
        "id": "6MtH4UUwAShm",
        "outputId": "ed5b3fb7-13eb-4925-d12c-b3cfb5d3513d",
        "vscode": {
          "languageId": "python"
        }
      },
      "outputs": [
        {
          "data": {
            "text/plain": [
              "(252,)"
            ]
          },
          "execution_count": 64,
          "metadata": {},
          "output_type": "execute_result"
        }
      ],
      "source": [
        "X.shape\n"
      ]
    },
    {
      "cell_type": "code",
      "execution_count": 65,
      "metadata": {
        "id": "EGexJa1DIeyY",
        "vscode": {
          "languageId": "python"
        }
      },
      "outputs": [],
      "source": [
        "X=X.reshape(-1,1)"
      ]
    },
    {
      "cell_type": "code",
      "execution_count": 66,
      "metadata": {
        "colab": {
          "base_uri": "https://localhost:8080/"
        },
        "id": "MmDl_b4QJHOn",
        "outputId": "cf2621cf-cbdc-4a44-f5c5-3ce6c3cdd0d7",
        "vscode": {
          "languageId": "python"
        }
      },
      "outputs": [
        {
          "data": {
            "text/plain": [
              "(252, 1)"
            ]
          },
          "execution_count": 66,
          "metadata": {},
          "output_type": "execute_result"
        }
      ],
      "source": [
        "X.shape"
      ]
    },
    {
      "cell_type": "code",
      "execution_count": 67,
      "metadata": {
        "id": "E0BCkHbRIfxf",
        "vscode": {
          "languageId": "python"
        }
      },
      "outputs": [],
      "source": [
        "from sklearn.linear_model import LinearRegression\n",
        "reg=LinearRegression().fit(X,y)"
      ]
    },
    {
      "cell_type": "code",
      "execution_count": null,
      "metadata": {
        "colab": {
          "base_uri": "https://localhost:8080/"
        },
        "id": "aeiY7-74IrEI",
        "outputId": "1ba3fa8b-5dfd-4189-c9fe-7a925b5ae1f4",
        "vscode": {
          "languageId": "python"
        }
      },
      "outputs": [],
      "source": [
        "reg.coef_  #nagib pravca"
      ]
    },
    {
      "cell_type": "code",
      "execution_count": null,
      "metadata": {
        "colab": {
          "base_uri": "https://localhost:8080/"
        },
        "id": "fnVtAovRI44n",
        "outputId": "512bcce0-c379-42a2-d01e-33870d5d8055",
        "vscode": {
          "languageId": "python"
        }
      },
      "outputs": [],
      "source": [
        "reg.intercept_  #gdje sjeće os x"
      ]
    },
    {
      "cell_type": "code",
      "execution_count": 70,
      "metadata": {
        "id": "_k8GmEknJVef",
        "vscode": {
          "languageId": "python"
        }
      },
      "outputs": [],
      "source": [
        "y_predvideno=reg.predict(X)"
      ]
    },
    {
      "cell_type": "markdown",
      "metadata": {
        "id": "RzvRq5uTfSxT"
      },
      "source": [
        "###Koeficijent determinacije\n",
        "* Relativna mjera prilagođenosti regresijskog pravca\n",
        "empirijskim podacima\n",
        "* Dobiva se kao omjer zbroja kvadrata odstupanja tumačenog modelom regresije i ukupnog zbroja kvadrata odstupanja (razlika između izmjerene i prosječne\n",
        "vrijednosti)\n",
        "* Model je reprezentativniji što je koeficijent determinacije bliži jedinici (0 – nema veze, 1 - potpuna veza)"
      ]
    },
    {
      "cell_type": "code",
      "execution_count": null,
      "metadata": {
        "colab": {
          "base_uri": "https://localhost:8080/"
        },
        "id": "Yoe3W5FWJtNO",
        "outputId": "5bb544c1-88b2-41f3-ca4e-3b42f9285317",
        "vscode": {
          "languageId": "python"
        }
      },
      "outputs": [],
      "source": [
        "reg.score(X,y)"
      ]
    },
    {
      "cell_type": "markdown",
      "metadata": {
        "id": "cDpUwSV9gYJ5"
      },
      "source": [
        "###Rezidualna odstupanja\n",
        "* Odstupanja izmjerenih vrijednosti zavisne varijable od regresijskih vrijednosti.\n",
        "* Model regresije je reprezentativniji što su manja rezidualna odstupanja"
      ]
    },
    {
      "cell_type": "code",
      "execution_count": 72,
      "metadata": {
        "id": "oyUMJr3XKB9t",
        "vscode": {
          "languageId": "python"
        }
      },
      "outputs": [],
      "source": [
        "visina_21=X[20,0]\n",
        "stvarna_tezina_21=y[20]\n",
        "dobivena_tezina_21=round(y_predvideno[20],2)"
      ]
    },
    {
      "cell_type": "code",
      "execution_count": null,
      "metadata": {
        "colab": {
          "base_uri": "https://localhost:8080/"
        },
        "id": "uoAWvZsAKlVh",
        "outputId": "17a6734f-1ba7-4f0f-e896-3c956e8b4905",
        "vscode": {
          "languageId": "python"
        }
      },
      "outputs": [],
      "source": [
        "print(\"21. osoba u bazi je visoka {} cm, njena stvarna tezina je {}, a tezina dobivena  regresijskim modelom je {} \".format(visina_21,stvarna_tezina_21,dobivena_tezina_21))"
      ]
    },
    {
      "cell_type": "code",
      "execution_count": null,
      "metadata": {
        "colab": {
          "base_uri": "https://localhost:8080/"
        },
        "id": "iqhTlTxRLehv",
        "outputId": "7817f988-48d8-491e-ce92-4466ce5a40fa",
        "vscode": {
          "languageId": "python"
        }
      },
      "outputs": [],
      "source": [
        "residualno_odstupanje_21= round(abs(stvarna_tezina_21-dobivena_tezina_21),2)\n",
        "residualno_odstupanje_21"
      ]
    },
    {
      "attachments": {},
      "cell_type": "markdown",
      "metadata": {
        "id": "94_b4OJezT7y"
      },
      "source": [
        "###Varijanca (eng. Mean squared error)"
      ]
    },
    {
      "cell_type": "markdown",
      "metadata": {
        "id": "O74YgbVZUDg7"
      },
      "source": [
        "The smaller the mean squared error, the closer you are to finding the line of best fit"
      ]
    },
    {
      "cell_type": "code",
      "execution_count": 76,
      "metadata": {
        "colab": {
          "base_uri": "https://localhost:8080/"
        },
        "id": "u9fvbsQvMRTm",
        "outputId": "fb2cc584-0a3a-44cd-95bc-d45f4290dce6",
        "vscode": {
          "languageId": "python"
        }
      },
      "outputs": [
        {
          "data": {
            "text/plain": [
              "164.7383281629607"
            ]
          },
          "execution_count": 76,
          "metadata": {},
          "output_type": "execute_result"
        }
      ],
      "source": [
        "from sklearn.metrics import mean_squared_error\n",
        "mean_squared_error(y,y_predvideno)"
      ]
    },
    {
      "cell_type": "markdown",
      "metadata": {
        "id": "Xy1Pv8LStHUT"
      },
      "source": [
        "###Predviđanje za nepoznatu vrijednost"
      ]
    },
    {
      "cell_type": "code",
      "execution_count": 77,
      "metadata": {
        "colab": {
          "base_uri": "https://localhost:8080/"
        },
        "id": "BRHeoxVUMvi2",
        "outputId": "e639a272-d2c1-4a16-87c9-edaca18dc86b",
        "vscode": {
          "languageId": "python"
        }
      },
      "outputs": [
        {
          "data": {
            "text/plain": [
              "array([83.12141156])"
            ]
          },
          "execution_count": 77,
          "metadata": {},
          "output_type": "execute_result"
        }
      ],
      "source": [
        "reg.predict([[180]])"
      ]
    },
    {
      "cell_type": "markdown",
      "metadata": {
        "id": "cg7LzptD08jq"
      },
      "source": [
        "###Grafički prikaz rezultata"
      ]
    },
    {
      "cell_type": "code",
      "execution_count": null,
      "metadata": {
        "colab": {
          "base_uri": "https://localhost:8080/",
          "height": 449
        },
        "id": "a_OYMpkZM8Cm",
        "outputId": "ca94d766-c7e0-48bb-e291-4edfb395fdf8",
        "vscode": {
          "languageId": "python"
        }
      },
      "outputs": [],
      "source": [
        "import matplotlib.pyplot as plt\n",
        "plt.scatter(X,y)\n",
        "plt.plot(X,y_predvideno,'r')\n",
        "plt.xlabel('Visinu u cm')\n",
        "plt.ylabel('Tezina u kg')\n",
        "#plt.xlim(150,205)\n",
        "#plt.ylim(40,130)\n",
        "plt.show()"
      ]
    },
    {
      "cell_type": "markdown",
      "metadata": {
        "id": "rhBcJxqRrPqg"
      },
      "source": [
        "###Optimizacija"
      ]
    },
    {
      "cell_type": "markdown",
      "metadata": {
        "id": "ADxmskQo2iZb"
      },
      "source": [
        "####Izbacivanje outliera "
      ]
    },
    {
      "cell_type": "code",
      "execution_count": 81,
      "metadata": {
        "colab": {
          "base_uri": "https://localhost:8080/"
        },
        "id": "f5in569YNdaO",
        "outputId": "019ac7de-5284-4a31-e6b7-27f41530903b",
        "vscode": {
          "languageId": "python"
        }
      },
      "outputs": [
        {
          "data": {
            "text/plain": [
              "(array([41]), array([0]))"
            ]
          },
          "execution_count": 81,
          "metadata": {},
          "output_type": "execute_result"
        }
      ],
      "source": [
        "outlier_X=np.where(X<150)\n",
        "outlier_X"
      ]
    },
    {
      "cell_type": "code",
      "execution_count": 82,
      "metadata": {
        "colab": {
          "base_uri": "https://localhost:8080/"
        },
        "id": "YrL0ntwpAa9F",
        "outputId": "0d2648b3-624e-4eb6-b48f-1edb7c25befb",
        "vscode": {
          "languageId": "python"
        }
      },
      "outputs": [
        {
          "data": {
            "text/plain": [
              "(array([38, 40]),)"
            ]
          },
          "execution_count": 82,
          "metadata": {},
          "output_type": "execute_result"
        }
      ],
      "source": [
        "outlier_y=np.where(y>120)\n",
        "outlier_y"
      ]
    },
    {
      "cell_type": "code",
      "execution_count": 83,
      "metadata": {
        "id": "E3LGyXrvAa3B",
        "vscode": {
          "languageId": "python"
        }
      },
      "outputs": [],
      "source": [
        "outlier_index=[38,40,41]"
      ]
    },
    {
      "cell_type": "code",
      "execution_count": 84,
      "metadata": {
        "id": "TUEv0bPhN9Ss",
        "vscode": {
          "languageId": "python"
        }
      },
      "outputs": [],
      "source": [
        "X_novi=np.delete(X,outlier_index)\n",
        "y_novi=np.delete(y,outlier_index)"
      ]
    },
    {
      "cell_type": "code",
      "execution_count": 85,
      "metadata": {
        "colab": {
          "base_uri": "https://localhost:8080/"
        },
        "id": "QdXghssVN9QU",
        "outputId": "7fa607c7-2c69-49ea-9e63-061979bf7d64",
        "vscode": {
          "languageId": "python"
        }
      },
      "outputs": [
        {
          "data": {
            "text/plain": [
              "(249,)"
            ]
          },
          "execution_count": 85,
          "metadata": {},
          "output_type": "execute_result"
        }
      ],
      "source": [
        "X_novi.shape"
      ]
    },
    {
      "cell_type": "code",
      "execution_count": 86,
      "metadata": {
        "id": "gAubGbkHN9OM",
        "vscode": {
          "languageId": "python"
        }
      },
      "outputs": [],
      "source": [
        "X_novi=X_novi.reshape(-1,1)"
      ]
    },
    {
      "cell_type": "code",
      "execution_count": 88,
      "metadata": {
        "colab": {
          "base_uri": "https://localhost:8080/"
        },
        "id": "eyhva9vVOn1w",
        "outputId": "aa1bb86e-f770-4742-cd10-1c260ce66dce",
        "vscode": {
          "languageId": "python"
        }
      },
      "outputs": [
        {
          "data": {
            "text/plain": [
              "(249, 1)"
            ]
          },
          "execution_count": 88,
          "metadata": {},
          "output_type": "execute_result"
        }
      ],
      "source": [
        "X_novi.shape"
      ]
    },
    {
      "cell_type": "code",
      "execution_count": 89,
      "metadata": {
        "id": "5oXL6LVDOrtg",
        "vscode": {
          "languageId": "python"
        }
      },
      "outputs": [],
      "source": [
        "reg_novi=LinearRegression().fit(X_novi,y_novi)\n"
      ]
    },
    {
      "cell_type": "code",
      "execution_count": 90,
      "metadata": {
        "colab": {
          "base_uri": "https://localhost:8080/"
        },
        "id": "j-xaapBNOyOY",
        "outputId": "9fb60432-64aa-40dd-bed5-6f7292e46f68",
        "vscode": {
          "languageId": "python"
        }
      },
      "outputs": [
        {
          "data": {
            "text/plain": [
              "0.2823760636283553"
            ]
          },
          "execution_count": 90,
          "metadata": {},
          "output_type": "execute_result"
        }
      ],
      "source": [
        "reg_novi.score(X_novi,y_novi)"
      ]
    },
    {
      "cell_type": "code",
      "execution_count": 92,
      "metadata": {
        "id": "ILCNNERsPWfH",
        "vscode": {
          "languageId": "python"
        }
      },
      "outputs": [],
      "source": [
        "y_predvideno_novi=reg_novi.predict(X_novi)"
      ]
    },
    {
      "cell_type": "code",
      "execution_count": null,
      "metadata": {
        "colab": {
          "base_uri": "https://localhost:8080/",
          "height": 455
        },
        "id": "oOAR8d1FPJTX",
        "outputId": "4520985d-f2ab-4f13-e969-f4180d0aa64a",
        "vscode": {
          "languageId": "python"
        }
      },
      "outputs": [],
      "source": [
        "import matplotlib.pyplot as plt\n",
        "plt.scatter(X_novi,y_novi)\n",
        "plt.plot(X,y_predvideno,'r')\n",
        "plt.plot(X_novi,y_predvideno_novi, 'g')\n",
        "plt.xlabel('Visinu u cm')\n",
        "plt.ylabel('Tezina u kg')\n",
        "plt.xlim(150,205)\n",
        "plt.ylim(40,130)\n",
        "plt.show()"
      ]
    },
    {
      "cell_type": "code",
      "execution_count": null,
      "metadata": {
        "colab": {
          "base_uri": "https://localhost:8080/"
        },
        "id": "o49A8Zw-PJJQ",
        "outputId": "25a7ff9a-db6a-4e2d-8149-51d9ac35781d",
        "vscode": {
          "languageId": "python"
        }
      },
      "outputs": [],
      "source": [
        "mean_squared_error(y_novi,y_predvideno_novi)"
      ]
    },
    {
      "cell_type": "markdown",
      "metadata": {
        "id": "Fa26FsiCqm33"
      },
      "source": [
        "#Multivarijatna linearna regresija"
      ]
    },
    {
      "cell_type": "code",
      "execution_count": null,
      "metadata": {
        "colab": {
          "base_uri": "https://localhost:8080/"
        },
        "id": "08D-q-k6imth",
        "outputId": "a6fc960a-619c-486d-f95c-64a387f1941e",
        "vscode": {
          "languageId": "python"
        }
      },
      "outputs": [],
      "source": [
        "baza=datasets.fetch_openml('cars')"
      ]
    },
    {
      "cell_type": "code",
      "execution_count": null,
      "metadata": {
        "colab": {
          "base_uri": "https://localhost:8080/"
        },
        "id": "AGH8_wWIQTcO",
        "outputId": "b0a449b8-1773-42e8-fd0f-eb94d4d2955b",
        "vscode": {
          "languageId": "python"
        }
      },
      "outputs": [],
      "source": [
        "baza.keys()"
      ]
    },
    {
      "cell_type": "code",
      "execution_count": null,
      "metadata": {
        "colab": {
          "base_uri": "https://localhost:8080/"
        },
        "id": "86TT1t3tQTZ-",
        "outputId": "45b0ad72-e50c-4da1-d357-553c3e790c17",
        "vscode": {
          "languageId": "python"
        }
      },
      "outputs": [],
      "source": [
        "baza.data.shape"
      ]
    },
    {
      "cell_type": "code",
      "execution_count": null,
      "metadata": {
        "colab": {
          "base_uri": "https://localhost:8080/"
        },
        "id": "16LtYx_OQTWv",
        "outputId": "856a3d1f-054a-4c16-a98d-d8f391546bbf",
        "vscode": {
          "languageId": "python"
        }
      },
      "outputs": [],
      "source": [
        "baza.feature_names"
      ]
    },
    {
      "cell_type": "code",
      "execution_count": 101,
      "metadata": {
        "id": "fPgziGUPQTS-",
        "vscode": {
          "languageId": "python"
        }
      },
      "outputs": [],
      "source": [
        "podaci=np.array(baza.data)"
      ]
    },
    {
      "cell_type": "code",
      "execution_count": 102,
      "metadata": {
        "id": "4taGLzuTQTO2",
        "vscode": {
          "languageId": "python"
        }
      },
      "outputs": [],
      "source": [
        "X=podaci[50:100,3:6]\n",
        "y=podaci[50:100,0]"
      ]
    },
    {
      "cell_type": "code",
      "execution_count": null,
      "metadata": {
        "colab": {
          "base_uri": "https://localhost:8080/"
        },
        "id": "Po_PXv9YQTKe",
        "outputId": "5f81d445-913f-4d46-d34f-c024bac2274d",
        "vscode": {
          "languageId": "python"
        }
      },
      "outputs": [],
      "source": [
        "X.shape"
      ]
    },
    {
      "cell_type": "code",
      "execution_count": null,
      "metadata": {
        "colab": {
          "base_uri": "https://localhost:8080/"
        },
        "id": "GOxhxES3QS5H",
        "outputId": "a17df04a-2d66-4513-b2e7-703bae152e36",
        "vscode": {
          "languageId": "python"
        }
      },
      "outputs": [],
      "source": [
        "np.amax(X,axis=0)   #o za max po stupcu, 1 za max po retku"
      ]
    },
    {
      "cell_type": "code",
      "execution_count": null,
      "metadata": {
        "colab": {
          "base_uri": "https://localhost:8080/"
        },
        "id": "BCGESaEARoJ-",
        "outputId": "5a6f2e0c-810b-4ff4-986c-73c5069e9a34",
        "vscode": {
          "languageId": "python"
        }
      },
      "outputs": [],
      "source": [
        "np.amin(X,axis=0)"
      ]
    },
    {
      "cell_type": "code",
      "execution_count": null,
      "metadata": {
        "colab": {
          "base_uri": "https://localhost:8080/"
        },
        "id": "c0jMVQp7Rw_l",
        "outputId": "36a03dd7-5857-4dc7-eb5b-32502dd362c4",
        "vscode": {
          "languageId": "python"
        }
      },
      "outputs": [],
      "source": [
        "max(y)"
      ]
    },
    {
      "cell_type": "code",
      "execution_count": null,
      "metadata": {
        "colab": {
          "base_uri": "https://localhost:8080/"
        },
        "id": "iLWznay9RzR-",
        "outputId": "c9152d54-fd7a-4341-a8a7-f631ccd14733",
        "vscode": {
          "languageId": "python"
        }
      },
      "outputs": [],
      "source": [
        "min(y)"
      ]
    },
    {
      "cell_type": "markdown",
      "metadata": {
        "id": "-FmgxRLTrgMA"
      },
      "source": [
        "####Normalizacija podataka"
      ]
    },
    {
      "cell_type": "code",
      "execution_count": null,
      "metadata": {
        "id": "XoqPddOHnjhh",
        "vscode": {
          "languageId": "python"
        }
      },
      "outputs": [],
      "source": [
        "from sklearn.preprocessing import normalize\n",
        "\n",
        "X_norm=normalize(X)\n",
        "X_norm"
      ]
    },
    {
      "cell_type": "code",
      "execution_count": null,
      "metadata": {
        "colab": {
          "base_uri": "https://localhost:8080/"
        },
        "id": "NIv2ctckSi2t",
        "outputId": "ad91cabc-1d1f-4847-c6d9-33b37d86c534",
        "vscode": {
          "languageId": "python"
        }
      },
      "outputs": [],
      "source": [
        "y"
      ]
    },
    {
      "cell_type": "code",
      "execution_count": null,
      "metadata": {
        "id": "rNubabYcSdMl",
        "vscode": {
          "languageId": "python"
        }
      },
      "outputs": [],
      "source": [
        "y_norm=y/max(y)\n",
        "y_norm"
      ]
    },
    {
      "cell_type": "code",
      "execution_count": 112,
      "metadata": {
        "id": "NXfQ7Au7Sn29",
        "vscode": {
          "languageId": "python"
        }
      },
      "outputs": [],
      "source": [
        "reg_car=LinearRegression().fit(X_norm,y_norm)"
      ]
    },
    {
      "cell_type": "code",
      "execution_count": null,
      "metadata": {
        "colab": {
          "base_uri": "https://localhost:8080/"
        },
        "id": "I8CQ8nXESxGU",
        "outputId": "c6281e80-095d-47fd-b6b1-309b21dd87cd",
        "vscode": {
          "languageId": "python"
        }
      },
      "outputs": [],
      "source": [
        "reg_car.score(X_norm,y_norm)"
      ]
    },
    {
      "cell_type": "code",
      "execution_count": null,
      "metadata": {
        "colab": {
          "base_uri": "https://localhost:8080/"
        },
        "id": "62ujQrRVS-6V",
        "outputId": "a5cfe2a6-df6f-46fb-9c98-a2a264411bea",
        "vscode": {
          "languageId": "python"
        }
      },
      "outputs": [],
      "source": [
        "y_pred=reg_car.predict(X_norm)\n",
        "mean_squared_error(y_norm,y_pred)"
      ]
    },
    {
      "cell_type": "markdown",
      "metadata": {
        "id": "TKmcfJVUuykb"
      },
      "source": [
        "####Predviđanje vrijednosti"
      ]
    },
    {
      "cell_type": "code",
      "execution_count": null,
      "metadata": {
        "colab": {
          "base_uri": "https://localhost:8080/"
        },
        "id": "lwPCOtDXAv1W",
        "outputId": "55886feb-d5b9-46b8-c6d1-67173b97cd4e",
        "vscode": {
          "languageId": "python"
        }
      },
      "outputs": [],
      "source": [
        "reg_car.predict(normalize([[100,3000,20]]))"
      ]
    },
    {
      "cell_type": "markdown",
      "metadata": {
        "id": "t22VyzdLw-Vh"
      },
      "source": [
        "#Dodatni materijali - Polinomna regresija"
      ]
    },
    {
      "cell_type": "code",
      "execution_count": 45,
      "metadata": {
        "id": "PkDK9pepVfK_",
        "vscode": {
          "languageId": "python"
        }
      },
      "outputs": [],
      "source": [
        "#imamo od prije\n",
        "import numpy as np\n",
        "import matplotlib.pyplot as plt\n",
        "from sklearn.linear_model import LinearRegression  \n",
        "\n",
        "#da nam svima budu jednake točke\n",
        "#import numpy.random as rnd\n",
        "np.random.seed(42)  "
      ]
    },
    {
      "cell_type": "markdown",
      "metadata": {
        "id": "1uwGiUDJb2Hs"
      },
      "source": [
        "**Generiranje nelinearnih podataka**"
      ]
    },
    {
      "cell_type": "code",
      "execution_count": 46,
      "metadata": {
        "id": "op7LCOHhVfK_",
        "vscode": {
          "languageId": "python"
        }
      },
      "outputs": [],
      "source": [
        "#100 točka\n",
        "X = 6 * np.random.rand(100, 1) - 3\n",
        "y = 0.5 * X**2 + X + 2 + np.random.randn(100, 1)"
      ]
    },
    {
      "cell_type": "markdown",
      "metadata": {
        "id": "2roy5a6db7SK"
      },
      "source": [
        "**Prikaz podataka**"
      ]
    },
    {
      "cell_type": "code",
      "execution_count": null,
      "metadata": {
        "colab": {
          "base_uri": "https://localhost:8080/",
          "height": 449
        },
        "id": "99crruwmVfK_",
        "outputId": "cb808aae-1dfc-4df2-e88b-e392470af240",
        "vscode": {
          "languageId": "python"
        }
      },
      "outputs": [],
      "source": [
        "plt.scatter(X, y)\n",
        "plt.xlabel(\"X\")\n",
        "plt.ylabel(\"y\")\n",
        "plt.show()"
      ]
    },
    {
      "cell_type": "code",
      "execution_count": null,
      "metadata": {
        "colab": {
          "base_uri": "https://localhost:8080/"
        },
        "id": "x8wfUZGqXWHu",
        "outputId": "31e03d5e-9605-49af-c580-ab3f029abd67",
        "vscode": {
          "languageId": "python"
        }
      },
      "outputs": [],
      "source": [
        "X[0]"
      ]
    },
    {
      "cell_type": "markdown",
      "metadata": {
        "id": "Rk-dF7F8cB3b"
      },
      "source": [
        "**Dodavanje značajke za polinomnalnu regresiju**"
      ]
    },
    {
      "cell_type": "code",
      "execution_count": 49,
      "metadata": {
        "id": "TnJnADRaVfK_",
        "vscode": {
          "languageId": "python"
        }
      },
      "outputs": [],
      "source": [
        "from sklearn.preprocessing import PolynomialFeatures\n",
        "poly_znacajka = PolynomialFeatures(degree=2, include_bias=False) \n",
        "              #degree nam je stupanj funkcije, ako je 2 nam je kvadratna funkcija\n",
        "X_poly = poly_znacajka.fit_transform(X) \n",
        "                #obzirom da su dva stupnja, dodajemo kvadrat"
      ]
    },
    {
      "cell_type": "markdown",
      "metadata": {
        "id": "d803gmydhTC3"
      },
      "source": [
        "\n",
        "We see here that the transformer has converted our one-dimensional array into a two-dimensional array by taking the exponent of each value. This new, higher-dimensional data representation can then be plugged into a linear regression."
      ]
    },
    {
      "cell_type": "code",
      "execution_count": null,
      "metadata": {
        "colab": {
          "base_uri": "https://localhost:8080/"
        },
        "id": "K71J2zG5VfK_",
        "outputId": "0c75fb88-ee11-4bd7-89ec-bdf4b689a299",
        "vscode": {
          "languageId": "python"
        }
      },
      "outputs": [],
      "source": [
        "X_poly[0]"
      ]
    },
    {
      "cell_type": "code",
      "execution_count": null,
      "metadata": {
        "colab": {
          "base_uri": "https://localhost:8080/"
        },
        "id": "x1VzOWFcVfK_",
        "outputId": "f94e46c1-c880-4a57-dce3-ebb04ebd6ebc",
        "vscode": {
          "languageId": "python"
        }
      },
      "outputs": [],
      "source": [
        "#primjenjujeno linearnu regresiju\n",
        "lin_reg = LinearRegression()\n",
        "lin_reg.fit(X_poly, y)\n",
        "lin_reg.intercept_, lin_reg.coef_"
      ]
    },
    {
      "cell_type": "code",
      "execution_count": null,
      "metadata": {
        "colab": {
          "base_uri": "https://localhost:8080/",
          "height": 449
        },
        "id": "HybzOplgY0qt",
        "outputId": "4116675d-9935-4570-c149-0eab58b40a54",
        "vscode": {
          "languageId": "python"
        }
      },
      "outputs": [],
      "source": [
        "y_new = lin_reg.predict(X_poly)\n",
        "plt.scatter(X, y)\n",
        "plt.scatter(X, y_new)\n",
        "plt.xlabel(\"X\")\n",
        "plt.ylabel(\"y\")\n",
        "plt.show()"
      ]
    },
    {
      "cell_type": "code",
      "execution_count": null,
      "metadata": {
        "colab": {
          "base_uri": "https://localhost:8080/",
          "height": 449
        },
        "id": "_d1cFaF8a2Eo",
        "outputId": "12b77642-1546-45ed-d82f-7ad030189296",
        "vscode": {
          "languageId": "python"
        }
      },
      "outputs": [],
      "source": [
        "#da dobijemo lijepu crtu, ravnomjerno raspodjelimo točke i prediktamo\n",
        "\n",
        "#u intervalu od -3 do 3, ravnomjerno 100 točaka\n",
        "X_new=np.linspace(-3, 3, 100).reshape(100, 1) \n",
        "X_new_poly = poly_znacajka.transform(X_new) #kao i prije dodajemo značajku \n",
        "y_new = lin_reg.predict(X_new_poly)  # predvidimo vrijednosti \n",
        "\n",
        "plt.plot(X_new, y_new, \"r-\", linewidth=2, label=\"Predictions\")\n",
        "plt.scatter(X, y)\n",
        "plt.xlabel(\"X\")\n",
        "plt.ylabel(\"y\")\n",
        "plt.legend(loc=\"upper left\", fontsize=14)\n",
        "plt.show()"
      ]
    },
    {
      "attachments": {},
      "cell_type": "markdown",
      "metadata": {
        "id": "CiP17SkrhhsW"
      },
      "source": [
        "**Pipeline**"
      ]
    },
    {
      "cell_type": "code",
      "execution_count": null,
      "metadata": {
        "colab": {
          "base_uri": "https://localhost:8080/",
          "height": 455
        },
        "id": "zrX8U0moVfLA",
        "outputId": "c0a2f727-4e2c-4065-8799-29e6903bbc4a",
        "vscode": {
          "languageId": "python"
        }
      },
      "outputs": [],
      "source": [
        "from sklearn.preprocessing import StandardScaler\n",
        "from sklearn.pipeline import Pipeline\n",
        "\n",
        "for style, degree in ((\"g-\", 300), (\"b--\", 2), (\"r-+\",1)): \n",
        "   #kako hocemo crtati, boja i oznaka i onda stupanj polinoma\n",
        "    polybig_features = PolynomialFeatures(degree=degree, include_bias=False)\n",
        "    \n",
        "    std_scaler = StandardScaler()  \n",
        "        #Standardize features by removing the mean and scaling to unit variance \n",
        "        #Treba nam za ove visokog stupnja, za pravac i kvadratnu ne treba\n",
        "        #https://scikit-learn.org/stable/modules/generated/sklearn.preprocessing.StandardScaler.html\n",
        "    \n",
        "    lin_reg = LinearRegression()\n",
        "\n",
        "    #Sequentially apply a list of transforms and a final estimator. \n",
        "    #Intermediate steps of the pipeline must be ‘transforms’,\n",
        "    # that is, they must implement fit and transform methods. \n",
        "    #The final estimator only needs to implement fit.\n",
        "    \n",
        "    polynomial_regression = Pipeline([\n",
        "            (\"poly_features\", polybig_features),\n",
        "            (\"std_scaler\", std_scaler),\n",
        "            (\"lin_reg\", lin_reg),\n",
        "        ])\n",
        "    polynomial_regression.fit(X, y)\n",
        "    y_newbig = polynomial_regression.predict(X_new)\n",
        "    plt.plot(X_new, y_newbig, style, label=str(degree))\n",
        "\n",
        "plt.scatter(X, y)\n",
        "plt.legend(loc=\"upper left\")\n",
        "plt.xlabel(\"y\")\n",
        "plt.ylabel(\"y\")\n",
        "plt.axis([-3, 3, 0, 10])\n",
        "\n",
        "plt.show()"
      ]
    }
  ],
  "metadata": {
    "colab": {
      "collapsed_sections": [
        "t22VyzdLw-Vh"
      ],
      "provenance": [],
      "toc_visible": true
    },
    "kernelspec": {
      "display_name": "Python 3",
      "name": "python3"
    }
  },
  "nbformat": 4,
  "nbformat_minor": 0
}
